{
  "cells": [
    {
      "cell_type": "markdown",
      "metadata": {
        "id": "ZLQS0KLMycmb"
      },
      "source": [
        "## **PRACTICAL SESSION 1** — Deep Learning for predictive maintenance"
      ]
    },
    {
      "cell_type": "markdown",
      "metadata": {
        "id": "3mjNAfgj4K1_"
      },
      "source": [
        "The dataset used is the **AI4I 2020** Predictive Maintenance Dataset, which contains 10,000 instances of industrial sensor data. Each instance represents the operating condition of a machine and is associated with a label indicating whether a failure has occurred and, if so, what type of failure it is.\n",
        "\n",
        "The 5 possible labels are:\n",
        "\n",
        "\n",
        "\n",
        "*   **TWF**: Tool Wear Failure\n",
        "*   **HDF**: Heat Dissipation Failure\n",
        "*   **PWF**: Power Failure\n",
        "*   **OSF**: Overstrain Failure\n",
        "*   **RNF**: Random Failure\n",
        "\n",
        "\n",
        "The data is available on eCAMPUS as CSV file called: \"ai4i2020.csv\"\n",
        "\n"
      ]
    },
    {
      "cell_type": "markdown",
      "metadata": {
        "id": "4_LBMVsgRI9W"
      },
      "source": [
        "## **PRACTICAL SESSION Goal** — Ceate a deep leanring model allowing to realize a predictive maintenance mission"
      ]
    },
    {
      "cell_type": "markdown",
      "metadata": {
        "id": "wt7L0p4MbIIw"
      },
      "source": [
        "## **1 - Analysis of the dataset**\n",
        "\n"
      ]
    },
    {
      "cell_type": "markdown",
      "metadata": {
        "id": "0JFIZ6mtRapt"
      },
      "source": [
        "All libraries used ***SHOULD BE PLACED*** in the code cell below"
      ]
    },
    {
      "cell_type": "code",
      "execution_count": null,
      "metadata": {
        "id": "UQp7FGSb5Vlv"
      },
      "outputs": [],
      "source": [
        "import numpy as np\n",
        "import matplotlib.pyplot as plt\n",
        "import tensorflow\n",
        "from tensorflow import keras\n",
        "from tensorflow.keras import layers, models\n",
        "from sklearn.model_selection import train_test_split\n",
        "import pandas as pd\n",
        "from sklearn.preprocessing import StandardScaler, OneHotEncoder\n",
        "from sklearn.metrics import accuracy_score, classification_report, confusion_matrix\n",
        "import seaborn as sns\n",
        "from imblearn.over_sampling import SMOTE"
      ]
    },
    {
      "cell_type": "markdown",
      "metadata": {
        "id": "eFRcS74MDeSf"
      },
      "source": [
        "**QUESTION:** Load dataset and display some lines of the csv file."
      ]
    },
    {
      "cell_type": "code",
      "execution_count": null,
      "metadata": {
        "id": "9l044FZ_5-fN",
        "outputId": "5e0b2121-4808-41b7-84d7-b94299212a21",
        "colab": {
          "base_uri": "https://localhost:8080/"
        }
      },
      "outputs": [
        {
          "output_type": "stream",
          "name": "stdout",
          "text": [
            "   UDI Product ID Type  Air temperature [K]  Process temperature [K]  \\\n",
            "0    1     M14860    M                298.1                    308.6   \n",
            "1    2     L47181    L                298.2                    308.7   \n",
            "2    3     L47182    L                298.1                    308.5   \n",
            "3    4     L47183    L                298.2                    308.6   \n",
            "4    5     L47184    L                298.2                    308.7   \n",
            "\n",
            "   Rotational speed [rpm]  Torque [Nm]  Tool wear [min]  Machine failure  TWF  \\\n",
            "0                    1551         42.8                0                0    0   \n",
            "1                    1408         46.3                3                0    0   \n",
            "2                    1498         49.4                5                0    0   \n",
            "3                    1433         39.5                7                0    0   \n",
            "4                    1408         40.0                9                0    0   \n",
            "\n",
            "   HDF  PWF  OSF  RNF  \n",
            "0    0    0    0    0  \n",
            "1    0    0    0    0  \n",
            "2    0    0    0    0  \n",
            "3    0    0    0    0  \n",
            "4    0    0    0    0  \n"
          ]
        }
      ],
      "source": [
        "# Load the dataset\n",
        "file_path = \"ai4i2020.csv\"  # Make sure the file is in the same directory or provide the full path\n",
        "df = pd.read_csv(file_path)\n",
        "\n",
        "# Display the first few rows\n",
        "print(df.head())"
      ]
    },
    {
      "cell_type": "markdown",
      "metadata": {
        "id": "joQOXoqaD8JA"
      },
      "source": [
        "**QUESTION:** Display the distribution of machine failures and non-failures with a bar graph."
      ]
    },
    {
      "cell_type": "code",
      "execution_count": null,
      "metadata": {
        "id": "r3Q1l9JoMs7m",
        "outputId": "dca3e23f-61da-428e-ec27-1cd1a4e036cc",
        "colab": {
          "base_uri": "https://localhost:8080/",
          "height": 410
        }
      },
      "outputs": [
        {
          "output_type": "display_data",
          "data": {
            "text/plain": [
              "<Figure size 600x400 with 1 Axes>"
            ],
            "image/png": "[encoded data removed]"
          },
          "metadata": {}
        }
      ],
      "source": [
        "failure_counts = df['Machine failure'].value_counts()\n",
        "\n",
        "# Plot the distribution\n",
        "plt.figure(figsize=(6, 4))\n",
        "plt.bar(failure_counts.index, failure_counts.values, color = ['green','red'], tick_label=['No Failure', 'Failure'])\n",
        "plt.xlabel('Machine Failure')\n",
        "plt.ylabel('Count')\n",
        "plt.title('Distribution of Machine Failures and Non-Failures')\n",
        "plt.show()"
      ]
    },
    {
      "cell_type": "markdown",
      "metadata": {
        "id": "vCNIqXVyEkrR"
      },
      "source": [
        "**ANALYSIS QUESTION:** What do you observe?"
      ]
    },
    {
      "cell_type": "markdown",
      "metadata": {
        "id": "6BMGtlIWE-C0"
      },
      "source": [
        "Il y a une forte majorité de machines qui n’ont pas rencontré de panne. Le nombre de machines en bon fonctionnement est largement supérieur à celui des machines en panne. Cela montre un déséquilibre important dans les données, avec beaucoup plus de cas sans panne que de cas avec panne. Ce déséquilibre pourrait avoir un impact sur la performance des modèles de machine learning qui seront entraînés sur ce dataset."
      ]
    },
    {
      "cell_type": "markdown",
      "metadata": {
        "id": "huU5I4x8SzlN"
      },
      "source": [
        "**ANALYSIS QUESTION:** What will be the consequence of this phenomenon on the model's learning?"
      ]
    },
    {
      "cell_type": "markdown",
      "metadata": {
        "id": "JHmYROP0TLIS"
      },
      "source": [
        "Le déséquilibre des classes, observé dans ce dataset, impactera l’apprentissage du modèle. En effet, lorsque la grande majorité des machines sont en bon état et qu’un très faible nombre présente des pannes, le modèle sera naturellement tenté d’apprendre que la meilleure stratégie consiste simplement à prédire que toutes les machines fonctionnent correctement.Ainsi, le modèle obtiendra une bonne précision , car il aura correctement classé la plupart des machines.\n",
        "\n",
        "Néanmoins, le vrai objectif d’un modèle de maintenance prédictive est justement de détecter les pannes, idéalement avant qu’elles ne surviennent ou qu’elles ne provoquent des arrêts de production. Or, avec des données aussi déséquilibrées, le modèle risque de passer complètement à côté des cas de panne. Il sera donc très bon pour dire qu’une machine fonctionne, mais très mauvais pour identifier celles qui sont sur le point de tomber en panne.\n",
        "\n",
        "Ce déséquilibre pose également un problème au niveau de l’évaluation du modèle. Une simple mesure de l'accuracy ne suffira plus pour juger de sa qualité. Il faudra privilégier des métriques plus adaptées comme le recall, qui mesure la capacité à détecter les pannes, ou encore le score F1, qui équilibre précision et rappel.\n",
        "\n",
        "Enfin, dans un contexte industriel, les conséquences peuvent être graves. Ne pas détecter une panne signifie risquer des arrêts de production imprévus, des pertes financières importantes, voire des accidents ou des dégradations majeures de l’équipement.\n",
        "\n",
        "Pour atténuer ce problème, il est possible de rééquilibrer les données en augmentant artificiellement le nombre d’exemples de pannes (sur-échantillonnage) ou en réduisant le nombre de machines sans panne (sous-échantillonnage). On peut aussi jouer sur les pondérations des classes lors de l’entraînement, afin d’obliger le modèle à accorder plus d’importance aux pannes.\n"
      ]
    },
    {
      "cell_type": "markdown",
      "metadata": {
        "id": "0s-mzCCsSasl"
      },
      "source": [
        "**QUESTION:** Create a bar chart showing the distribution of different failure types (TWF, HDF, PWF, OSF, RNF). Display the exact values above each bar in the chart.\""
      ]
    },
    {
      "cell_type": "code",
      "execution_count": null,
      "metadata": {
        "id": "nQyJCfamMdJN",
        "outputId": "5fdbe355-f2fd-4cd7-e63c-e48b14f57b8f",
        "colab": {
          "base_uri": "https://localhost:8080/",
          "height": 504
        }
      },
      "outputs": [
        {
          "output_type": "display_data",
          "data": {
            "text/plain": [
              "<Figure size 800x500 with 1 Axes>"
            ],
            "image/png": "[encoded data removed]"
          },
          "metadata": {}
        }
      ],
      "source": [
        "# Failure types to analyze\n",
        "failure_types = ['TWF', 'HDF', 'PWF', 'OSF', 'RNF']\n",
        "\n",
        "# Count occurrences of each failure type\n",
        "failure_counts = df[failure_types].sum()\n",
        "\n",
        "# Create the bar chart\n",
        "plt.figure(figsize=(8, 5))\n",
        "bars = plt.bar(failure_counts.index, failure_counts.values, color=['red','blue','green','yellow','purple'])\n",
        "\n",
        "# Add exact values above each bar\n",
        "for bar in bars:\n",
        "    height = bar.get_height()\n",
        "    plt.text(bar.get_x() + bar.get_width()/2, height, f'{int(height)}', ha='center', va='bottom', fontsize=12, fontweight='bold')\n",
        "\n",
        "# Labels and title\n",
        "plt.xlabel('Failure Type')\n",
        "plt.ylabel('Count')\n",
        "plt.title('Distribution of Different Failure Types')\n",
        "plt.xticks(rotation=45)  # Rotate x-axis labels if needed\n",
        "plt.show()"
      ]
    },
    {
      "cell_type": "markdown",
      "metadata": {
        "id": "NXyHa73yU8g_"
      },
      "source": [
        "**ANALYSIS QUESTION:** What do you observe?"
      ]
    },
    {
      "cell_type": "markdown",
      "metadata": {
        "id": "WRDFE_dsVBBU"
      },
      "source": [
        "Sur ce graphique, on observe que les pannes ne sont pas réparties de manière uniforme entre les différents types. La panne la plus fréquente est la HDF avec 115 occurrences, suivie par OSF avec 98 occurrences et PWF avec 95 occurrences.\n",
        "\n",
        "Néanmoins, la panne TWF est moins fréquente avec 46 cas, et la panne la plus rare est la RNF , qui ne compte que 19 occurrences.\n",
        "\n",
        "Cette répartition montre que certaines causes de pannes, notamment liées à la dissipation thermique et aux surcharges, sont beaucoup plus courantes dans cet environnement industriel que les pannes aléatoires ou l’usure des outils.\n",
        "\n"
      ]
    },
    {
      "cell_type": "markdown",
      "metadata": {
        "id": "cvaO2bEIMxLd"
      },
      "source": [
        "**QUESTION:** Create a bar chart showing the distribution of failure types (TWF, HDF, PWF, OSF, RNF) among machines that experienced a failure (Machine failure == 1). Additionally, add a \"No Specific Failure\" category to count cases where a machine failed but no specific failure type was recorded. Display the exact values above each bar in the chart.\""
      ]
    },
    {
      "cell_type": "code",
      "execution_count": null,
      "metadata": {
        "id": "e97htGyyMsle",
        "outputId": "7de9df3e-da69-4d7e-c6d9-6b713ee64dbc",
        "colab": {
          "base_uri": "https://localhost:8080/",
          "height": 573
        }
      },
      "outputs": [
        {
          "output_type": "display_data",
          "data": {
            "text/plain": [
              "<Figure size 800x500 with 1 Axes>"
            ],
            "image/png": "[encoded data removed]"
          },
          "metadata": {}
        }
      ],
      "source": [
        "# Failure types to analyze\n",
        "failure_types = ['TWF', 'HDF', 'PWF', 'OSF', 'RNF']\n",
        "\n",
        "# Filter machines that experienced failure\n",
        "failed_machines = df[df['Machine failure'] == 1]\n",
        "\n",
        "# Count occurrences of each failure type\n",
        "failure_counts = failed_machines[failure_types].sum()\n",
        "\n",
        "# Count machines that failed but had no specific failure type\n",
        "no_specific_failure_count = (failed_machines[failure_types].sum(axis=1) == 0).sum()\n",
        "\n",
        "# Add \"No Specific Failure\" category\n",
        "failure_counts['No Specific Failure'] = no_specific_failure_count\n",
        "\n",
        "# Create the bar chart\n",
        "plt.figure(figsize=(8, 5))\n",
        "bars = plt.bar(failure_counts.index, failure_counts.values, color=['red','blue','green','yellow','purple'])\n",
        "\n",
        "# Add exact values above each bar\n",
        "for bar in bars:\n",
        "    height = bar.get_height()\n",
        "    plt.text(bar.get_x() + bar.get_width()/2, height, f'{int(height)}', ha='center', va='bottom', fontsize=12, fontweight='bold')\n",
        "\n",
        "# Labels and title\n",
        "plt.xlabel('Failure Type')\n",
        "plt.ylabel('Count')\n",
        "plt.title('Distribution of Failure Types Among Machines That Failed')\n",
        "plt.xticks(rotation=45)  # Rotate x-axis labels if needed\n",
        "plt.show()"
      ]
    },
    {
      "cell_type": "markdown",
      "metadata": {
        "id": "U6_3vAQCOUGb"
      },
      "source": [
        "**ANALYSIS QUESTION:** What do you obsrve comapred to the previous question ? What can you conclude?"
      ]
    },
    {
      "cell_type": "markdown",
      "metadata": {
        "id": "i-6t7nqlOjMo"
      },
      "source": [
        "En comparant ce graphique avec celui de la question précédente, on remarque que les nombres sont similaires, mais il y a une nouvelle catégorie : \"No Specific Failure\", qui représente les machines qui ont rencontré une défaillance (Machine failure = 1) sans qu’aucun type de panne spécifique (TWF, HDF, PWF, OSF, RNF) ne soit identifié. Cette catégorie comptabilise 9 cas, ce qui montre qu’une petite proportion des machines en échec n’a pas pu être associée à un type de panne précis.\n",
        "\n",
        "Par ailleurs, la répartition des différents types de pannes (TWF, HDF, PWF, OSF, RNF) reste globalement cohérente avec la répartition observée précédemment. Cela confirme que parmi les machines défaillantes, la majorité des pannes sont dues à des problèmes de dissipation thermique (HDF), de surcharge (OSF) et de pannes d’alimentation (PWF). Les pannes liées à l’usure des outils (TWF) sont moins fréquentes, et les pannes aléatoires (RNF) sont très rares.\n",
        "\n",
        "Ainsi la présence de la catégorie \"No Specific Failure\" met en évidence que toutes les pannes ne sont pas systématiquement identifiées ou classifiées, ce qui pourrait indiquer un manque d’information ou un défaut dans le processus de collecte des données. Cela souligne l’importance de s’assurer que les capteurs et les systèmes de diagnostic capturent correctement toutes les informations pertinentes lors d’un incident. Par conséquent, il faudra prendre en compte cette catégorie pour éviter que le modèle ne soit biaisé par l’absence d’information.\n",
        "\n",
        "\n",
        "\n"
      ]
    },
    {
      "cell_type": "markdown",
      "metadata": {
        "id": "muXeS0eVVW6H"
      },
      "source": [
        "**QUESTION:** Display the names of the different columns in the dataset with their respective data types."
      ]
    },
    {
      "cell_type": "code",
      "execution_count": null,
      "metadata": {
        "id": "pa9Tptu7nPMp",
        "outputId": "b1399ccb-58a1-484f-aa09-9e7a215ab44c",
        "colab": {
          "base_uri": "https://localhost:8080/"
        }
      },
      "outputs": [
        {
          "output_type": "stream",
          "name": "stdout",
          "text": [
            "Noms des colonnes dans le dataset avec leurs types données :\n",
            "\n",
            "UDI                          int64\n",
            "Product ID                  object\n",
            "Type                        object\n",
            "Air temperature [K]        float64\n",
            "Process temperature [K]    float64\n",
            "Rotational speed [rpm]       int64\n",
            "Torque [Nm]                float64\n",
            "Tool wear [min]              int64\n",
            "Machine failure              int64\n",
            "TWF                          int64\n",
            "HDF                          int64\n",
            "PWF                          int64\n",
            "OSF                          int64\n",
            "RNF                          int64\n",
            "dtype: object\n"
          ]
        }
      ],
      "source": [
        "print(\"Noms des colonnes dans le dataset avec leurs types données :\\n\")\n",
        "print(df.dtypes)"
      ]
    },
    {
      "cell_type": "markdown",
      "metadata": {
        "id": "cezua1bMVTCM"
      },
      "source": [
        "**ANALYSIS QUESTION:** To train the model, what will be the inputs and outputs (What are the names of the columns that you will use?)? Justify your response.\n",
        "Remember, you want to predict if the machine will fail, and if so, what kind of failure. You need to yse previous results to jsurtify your response."
      ]
    },
    {
      "cell_type": "markdown",
      "metadata": {
        "id": "0gy8oDgxbjol"
      },
      "source": [
        "Pour entraîner le modèle, les entrées seront les caractéristiques mesurées par les capteurs, c'est à dire la température de l’air, la température du processus, la vitesse de rotation, le couple, l’usure de l’outil et le type de machine. Ces variables reflètent les conditions de fonctionnement et permettent d’anticiper les pannes.\n",
        "\n",
        "La sortie principale sera la colonne Machine failure, qui indique si la machine tombe en panne ou non. En complément, la colonne Failure Type permettra d’identifier la cause de la panne lorsqu’elle survient.\n",
        "\n",
        "Ce choix est justifié par les analyses précédentes, qui ont montré la répartition des types de pannes et l’importance de bien identifier les causes spécifiques pour être plus précis au niveau des stratégies de maintenance"
      ]
    },
    {
      "cell_type": "markdown",
      "metadata": {
        "id": "CFXLkBzTiafx"
      },
      "source": [
        "## **2- Train model Without balancing the dataset**\n",
        "\n",
        "---\n",
        "\n"
      ]
    },
    {
      "cell_type": "markdown",
      "metadata": {
        "id": "plBeUOCKvVNU"
      },
      "source": [
        "In this section, you must build and train a model without rebalancing the dataset."
      ]
    },
    {
      "cell_type": "markdown",
      "metadata": {
        "id": "yj7CMqdVbxg2"
      },
      "source": [
        "**QUESTION:** Create X_train, Y_train, X_test, and Y_test. How many elements are present in X_train, Y_train, X_test, and Y_test? (Print the values)"
      ]
    },
    {
      "cell_type": "code",
      "execution_count": null,
      "metadata": {
        "id": "Wdght-L8wQQQ",
        "outputId": "fc59981e-51b8-4806-e257-ad00c8cadbbb",
        "colab": {
          "base_uri": "https://localhost:8080/"
        }
      },
      "outputs": [
        {
          "output_type": "stream",
          "name": "stdout",
          "text": [
            "X_train: 8000 rows, 6 columns\n",
            "Y_train: 8000 elements\n",
            "X_test: 2000 rows, 6 columns\n",
            "Y_test: 2000 elements\n"
          ]
        }
      ],
      "source": [
        "# Define features (X) and target variable (Y)\n",
        "X = df.drop(columns=['Product ID','Type','Machine failure', 'TWF', 'HDF', 'PWF', 'OSF', 'RNF']).values # All columns except 'Machine failure'\n",
        "Y = df['Machine failure'].values # Target column\n",
        "\n",
        "# Split the dataset into training (80%) and testing (20%) sets\n",
        "X_train, X_test, Y_train, Y_test = train_test_split(X, Y, test_size=0.2, random_state=42)\n",
        "\n",
        "# Display the number of elements in each set\n",
        "print(f'X_train: {X_train.shape[0]} rows, {X_train.shape[1]} columns')\n",
        "print(f'Y_train: {Y_train.shape[0]} elements')\n",
        "print(f'X_test: {X_test.shape[0]} rows, {X_test.shape[1]} columns')\n",
        "print(f'Y_test: {Y_test.shape[0]} elements')"
      ]
    },
    {
      "cell_type": "markdown",
      "metadata": {
        "id": "eqBuZsqKdQ7u"
      },
      "source": [
        "**QUESTION** Code below the model architecture"
      ]
    },
    {
      "cell_type": "code",
      "execution_count": null,
      "metadata": {
        "id": "F35j0VRDdNLc",
        "outputId": "c75617be-7718-4dba-f9d0-9307943d5f32",
        "colab": {
          "base_uri": "https://localhost:8080/",
          "height": 311
        }
      },
      "outputs": [
        {
          "output_type": "stream",
          "name": "stderr",
          "text": [
            "/usr/local/lib/python3.11/dist-packages/keras/src/layers/core/dense.py:87: UserWarning: Do not pass an `input_shape`/`input_dim` argument to a layer. When using Sequential models, prefer using an `Input(shape)` object as the first layer in the model instead.\n",
            "  super().__init__(activity_regularizer=activity_regularizer, **kwargs)\n"
          ]
        },
        {
          "output_type": "display_data",
          "data": {
            "text/plain": [
              "\u001b[1mModel: \"sequential_2\"\u001b[0m\n"
            ],
            "text/html": [
              "<pre style=\"white-space:pre;overflow-x:auto;line-height:normal;font-family:Menlo,'DejaVu Sans Mono',consolas,'Courier New',monospace\"><span style=\"font-weight: bold\">Model: \"sequential_2\"</span>\n",
              "</pre>\n"
            ]
          },
          "metadata": {}
        },
        {
          "output_type": "display_data",
          "data": {
            "text/plain": [
              "┏━━━━━━━━━━━━━━━━━━━━━━━━━━━━━━━━━━━━━━┳━━━━━━━━━━━━━━━━━━━━━━━━━━━━━┳━━━━━━━━━━━━━━━━━┓\n",
              "┃\u001b[1m \u001b[0m\u001b[1mLayer (type)                        \u001b[0m\u001b[1m \u001b[0m┃\u001b[1m \u001b[0m\u001b[1mOutput Shape               \u001b[0m\u001b[1m \u001b[0m┃\u001b[1m \u001b[0m\u001b[1m        Param #\u001b[0m\u001b[1m \u001b[0m┃\n",
              "┡━━━━━━━━━━━━━━━━━━━━━━━━━━━━━━━━━━━━━━╇━━━━━━━━━━━━━━━━━━━━━━━━━━━━━╇━━━━━━━━━━━━━━━━━┩\n",
              "│ dense_11 (\u001b[38;5;33mDense\u001b[0m)                     │ (\u001b[38;5;45mNone\u001b[0m, \u001b[38;5;34m64\u001b[0m)                  │             \u001b[38;5;34m448\u001b[0m │\n",
              "├──────────────────────────────────────┼─────────────────────────────┼─────────────────┤\n",
              "│ dropout_2 (\u001b[38;5;33mDropout\u001b[0m)                  │ (\u001b[38;5;45mNone\u001b[0m, \u001b[38;5;34m64\u001b[0m)                  │               \u001b[38;5;34m0\u001b[0m │\n",
              "├──────────────────────────────────────┼─────────────────────────────┼─────────────────┤\n",
              "│ dense_12 (\u001b[38;5;33mDense\u001b[0m)                     │ (\u001b[38;5;45mNone\u001b[0m, \u001b[38;5;34m32\u001b[0m)                  │           \u001b[38;5;34m2,080\u001b[0m │\n",
              "├──────────────────────────────────────┼─────────────────────────────┼─────────────────┤\n",
              "│ dense_13 (\u001b[38;5;33mDense\u001b[0m)                     │ (\u001b[38;5;45mNone\u001b[0m, \u001b[38;5;34m1\u001b[0m)                   │              \u001b[38;5;34m33\u001b[0m │\n",
              "└──────────────────────────────────────┴─────────────────────────────┴─────────────────┘\n"
            ],
            "text/html": [
              "<pre style=\"white-space:pre;overflow-x:auto;line-height:normal;font-family:Menlo,'DejaVu Sans Mono',consolas,'Courier New',monospace\">┏━━━━━━━━━━━━━━━━━━━━━━━━━━━━━━━━━━━━━━┳━━━━━━━━━━━━━━━━━━━━━━━━━━━━━┳━━━━━━━━━━━━━━━━━┓\n",
              "┃<span style=\"font-weight: bold\"> Layer (type)                         </span>┃<span style=\"font-weight: bold\"> Output Shape                </span>┃<span style=\"font-weight: bold\">         Param # </span>┃\n",
              "┡━━━━━━━━━━━━━━━━━━━━━━━━━━━━━━━━━━━━━━╇━━━━━━━━━━━━━━━━━━━━━━━━━━━━━╇━━━━━━━━━━━━━━━━━┩\n",
              "│ dense_11 (<span style=\"color: #0087ff; text-decoration-color: #0087ff\">Dense</span>)                     │ (<span style=\"color: #00d7ff; text-decoration-color: #00d7ff\">None</span>, <span style=\"color: #00af00; text-decoration-color: #00af00\">64</span>)                  │             <span style=\"color: #00af00; text-decoration-color: #00af00\">448</span> │\n",
              "├──────────────────────────────────────┼─────────────────────────────┼─────────────────┤\n",
              "│ dropout_2 (<span style=\"color: #0087ff; text-decoration-color: #0087ff\">Dropout</span>)                  │ (<span style=\"color: #00d7ff; text-decoration-color: #00d7ff\">None</span>, <span style=\"color: #00af00; text-decoration-color: #00af00\">64</span>)                  │               <span style=\"color: #00af00; text-decoration-color: #00af00\">0</span> │\n",
              "├──────────────────────────────────────┼─────────────────────────────┼─────────────────┤\n",
              "│ dense_12 (<span style=\"color: #0087ff; text-decoration-color: #0087ff\">Dense</span>)                     │ (<span style=\"color: #00d7ff; text-decoration-color: #00d7ff\">None</span>, <span style=\"color: #00af00; text-decoration-color: #00af00\">32</span>)                  │           <span style=\"color: #00af00; text-decoration-color: #00af00\">2,080</span> │\n",
              "├──────────────────────────────────────┼─────────────────────────────┼─────────────────┤\n",
              "│ dense_13 (<span style=\"color: #0087ff; text-decoration-color: #0087ff\">Dense</span>)                     │ (<span style=\"color: #00d7ff; text-decoration-color: #00d7ff\">None</span>, <span style=\"color: #00af00; text-decoration-color: #00af00\">1</span>)                   │              <span style=\"color: #00af00; text-decoration-color: #00af00\">33</span> │\n",
              "└──────────────────────────────────────┴─────────────────────────────┴─────────────────┘\n",
              "</pre>\n"
            ]
          },
          "metadata": {}
        },
        {
          "output_type": "display_data",
          "data": {
            "text/plain": [
              "\u001b[1m Total params: \u001b[0m\u001b[38;5;34m2,561\u001b[0m (10.00 KB)\n"
            ],
            "text/html": [
              "<pre style=\"white-space:pre;overflow-x:auto;line-height:normal;font-family:Menlo,'DejaVu Sans Mono',consolas,'Courier New',monospace\"><span style=\"font-weight: bold\"> Total params: </span><span style=\"color: #00af00; text-decoration-color: #00af00\">2,561</span> (10.00 KB)\n",
              "</pre>\n"
            ]
          },
          "metadata": {}
        },
        {
          "output_type": "display_data",
          "data": {
            "text/plain": [
              "\u001b[1m Trainable params: \u001b[0m\u001b[38;5;34m2,561\u001b[0m (10.00 KB)\n"
            ],
            "text/html": [
              "<pre style=\"white-space:pre;overflow-x:auto;line-height:normal;font-family:Menlo,'DejaVu Sans Mono',consolas,'Courier New',monospace\"><span style=\"font-weight: bold\"> Trainable params: </span><span style=\"color: #00af00; text-decoration-color: #00af00\">2,561</span> (10.00 KB)\n",
              "</pre>\n"
            ]
          },
          "metadata": {}
        },
        {
          "output_type": "display_data",
          "data": {
            "text/plain": [
              "\u001b[1m Non-trainable params: \u001b[0m\u001b[38;5;34m0\u001b[0m (0.00 B)\n"
            ],
            "text/html": [
              "<pre style=\"white-space:pre;overflow-x:auto;line-height:normal;font-family:Menlo,'DejaVu Sans Mono',consolas,'Courier New',monospace\"><span style=\"font-weight: bold\"> Non-trainable params: </span><span style=\"color: #00af00; text-decoration-color: #00af00\">0</span> (0.00 B)\n",
              "</pre>\n"
            ]
          },
          "metadata": {}
        }
      ],
      "source": [
        "# Standardize the data (important for neural networks)\n",
        "#scaler = StandardScaler()\n",
        "#X_train = scaler.fit_transform(X_train)\n",
        "#X_test = scaler.transform(X_test)\n",
        "\n",
        "# Build the Neural Network model\n",
        "model = keras.Sequential([\n",
        "    keras.layers.Dense(64, activation='relu', input_shape=(X_train.shape[1],)),  # Input Layer\n",
        "    keras.layers.Dropout(0.5),\n",
        "    keras.layers.Dense(32, activation='relu'),  # Hidden Layer 1\n",
        "    keras.layers.Dense(1, activation='sigmoid')  # Output Layer (binary classification)\n",
        "])\n",
        "\n",
        "# Compile the model\n",
        "model.compile(optimizer='adam', loss='binary_crossentropy', metrics=['accuracy'])\n",
        "\n",
        "# Display model architecture\n",
        "model.summary()\n"
      ]
    },
    {
      "cell_type": "markdown",
      "metadata": {
        "id": "dIONoP2Jdg8Q"
      },
      "source": [
        "**QUESTION** Code below the algorithms allowing to train model\n",
        "\n",
        "**WARNING!** You need to plot the training and test accuracy and loss to check if our model is overfitting"
      ]
    },
    {
      "cell_type": "code",
      "execution_count": null,
      "metadata": {
        "id": "jJ2bYxZydhW2",
        "outputId": "21b89302-b146-4ed1-ce55-9ba55cc9ab87",
        "colab": {
          "base_uri": "https://localhost:8080/",
          "height": 1000
        }
      },
      "outputs": [
        {
          "output_type": "stream",
          "name": "stdout",
          "text": [
            "Epoch 1/50\n",
            "\u001b[1m250/250\u001b[0m \u001b[32m━━━━━━━━━━━━━━━━━━━━\u001b[0m\u001b[37m\u001b[0m \u001b[1m3s\u001b[0m 6ms/step - accuracy: 0.8060 - loss: 178.8427 - val_accuracy: 0.9695 - val_loss: 21.4139\n",
            "Epoch 2/50\n",
            "\u001b[1m250/250\u001b[0m \u001b[32m━━━━━━━━━━━━━━━━━━━━\u001b[0m\u001b[37m\u001b[0m \u001b[1m1s\u001b[0m 5ms/step - accuracy: 0.9359 - loss: 24.0485 - val_accuracy: 0.9695 - val_loss: 7.2991\n",
            "Epoch 3/50\n",
            "\u001b[1m250/250\u001b[0m \u001b[32m━━━━━━━━━━━━━━━━━━━━\u001b[0m\u001b[37m\u001b[0m \u001b[1m2s\u001b[0m 4ms/step - accuracy: 0.9250 - loss: 16.3874 - val_accuracy: 0.9695 - val_loss: 3.1333\n",
            "Epoch 4/50\n",
            "\u001b[1m250/250\u001b[0m \u001b[32m━━━━━━━━━━━━━━━━━━━━\u001b[0m\u001b[37m\u001b[0m \u001b[1m1s\u001b[0m 3ms/step - accuracy: 0.9383 - loss: 8.8474 - val_accuracy: 0.9695 - val_loss: 1.5024\n",
            "Epoch 5/50\n",
            "\u001b[1m250/250\u001b[0m \u001b[32m━━━━━━━━━━━━━━━━━━━━\u001b[0m\u001b[37m\u001b[0m \u001b[1m1s\u001b[0m 3ms/step - accuracy: 0.9400 - loss: 5.3364 - val_accuracy: 0.9695 - val_loss: 1.1659\n",
            "Epoch 6/50\n",
            "\u001b[1m250/250\u001b[0m \u001b[32m━━━━━━━━━━━━━━━━━━━━\u001b[0m\u001b[37m\u001b[0m \u001b[1m1s\u001b[0m 3ms/step - accuracy: 0.9303 - loss: 4.2022 - val_accuracy: 0.9695 - val_loss: 0.6712\n",
            "Epoch 7/50\n",
            "\u001b[1m250/250\u001b[0m \u001b[32m━━━━━━━━━━━━━━━━━━━━\u001b[0m\u001b[37m\u001b[0m \u001b[1m1s\u001b[0m 3ms/step - accuracy: 0.9335 - loss: 2.8441 - val_accuracy: 0.9480 - val_loss: 0.4241\n",
            "Epoch 8/50\n",
            "\u001b[1m250/250\u001b[0m \u001b[32m━━━━━━━━━━━━━━━━━━━━\u001b[0m\u001b[37m\u001b[0m \u001b[1m1s\u001b[0m 4ms/step - accuracy: 0.9325 - loss: 1.4786 - val_accuracy: 0.9690 - val_loss: 0.4679\n",
            "Epoch 9/50\n",
            "\u001b[1m250/250\u001b[0m \u001b[32m━━━━━━━━━━━━━━━━━━━━\u001b[0m\u001b[37m\u001b[0m \u001b[1m1s\u001b[0m 3ms/step - accuracy: 0.9492 - loss: 0.8304 - val_accuracy: 0.9695 - val_loss: 0.3133\n",
            "Epoch 10/50\n",
            "\u001b[1m250/250\u001b[0m \u001b[32m━━━━━━━━━━━━━━━━━━━━\u001b[0m\u001b[37m\u001b[0m \u001b[1m2s\u001b[0m 4ms/step - accuracy: 0.9533 - loss: 0.7326 - val_accuracy: 0.9695 - val_loss: 0.1874\n",
            "Epoch 11/50\n",
            "\u001b[1m250/250\u001b[0m \u001b[32m━━━━━━━━━━━━━━━━━━━━\u001b[0m\u001b[37m\u001b[0m \u001b[1m1s\u001b[0m 4ms/step - accuracy: 0.9551 - loss: 0.4854 - val_accuracy: 0.9695 - val_loss: 0.2427\n",
            "Epoch 12/50\n",
            "\u001b[1m250/250\u001b[0m \u001b[32m━━━━━━━━━━━━━━━━━━━━\u001b[0m\u001b[37m\u001b[0m \u001b[1m1s\u001b[0m 3ms/step - accuracy: 0.9647 - loss: 0.2612 - val_accuracy: 0.9695 - val_loss: 0.1844\n",
            "Epoch 13/50\n",
            "\u001b[1m250/250\u001b[0m \u001b[32m━━━━━━━━━━━━━━━━━━━━\u001b[0m\u001b[37m\u001b[0m \u001b[1m1s\u001b[0m 3ms/step - accuracy: 0.9654 - loss: 0.2682 - val_accuracy: 0.9695 - val_loss: 0.1630\n",
            "Epoch 14/50\n",
            "\u001b[1m250/250\u001b[0m \u001b[32m━━━━━━━━━━━━━━━━━━━━\u001b[0m\u001b[37m\u001b[0m \u001b[1m1s\u001b[0m 3ms/step - accuracy: 0.9609 - loss: 0.2913 - val_accuracy: 0.9695 - val_loss: 0.1834\n",
            "Epoch 15/50\n",
            "\u001b[1m250/250\u001b[0m \u001b[32m━━━━━━━━━━━━━━━━━━━━\u001b[0m\u001b[37m\u001b[0m \u001b[1m1s\u001b[0m 3ms/step - accuracy: 0.9643 - loss: 0.2484 - val_accuracy: 0.9695 - val_loss: 0.1418\n",
            "Epoch 16/50\n",
            "\u001b[1m250/250\u001b[0m \u001b[32m━━━━━━━━━━━━━━━━━━━━\u001b[0m\u001b[37m\u001b[0m \u001b[1m1s\u001b[0m 3ms/step - accuracy: 0.9663 - loss: 0.2439 - val_accuracy: 0.9695 - val_loss: 0.1584\n",
            "Epoch 17/50\n",
            "\u001b[1m250/250\u001b[0m \u001b[32m━━━━━━━━━━━━━━━━━━━━\u001b[0m\u001b[37m\u001b[0m \u001b[1m1s\u001b[0m 3ms/step - accuracy: 0.9643 - loss: 0.1882 - val_accuracy: 0.9695 - val_loss: 0.1658\n",
            "Epoch 18/50\n",
            "\u001b[1m250/250\u001b[0m \u001b[32m━━━━━━━━━━━━━━━━━━━━\u001b[0m\u001b[37m\u001b[0m \u001b[1m1s\u001b[0m 3ms/step - accuracy: 0.9658 - loss: 0.1904 - val_accuracy: 0.9695 - val_loss: 0.1367\n",
            "Epoch 19/50\n",
            "\u001b[1m250/250\u001b[0m \u001b[32m━━━━━━━━━━━━━━━━━━━━\u001b[0m\u001b[37m\u001b[0m \u001b[1m1s\u001b[0m 3ms/step - accuracy: 0.9667 - loss: 0.1775 - val_accuracy: 0.9695 - val_loss: 0.1520\n",
            "Epoch 20/50\n",
            "\u001b[1m250/250\u001b[0m \u001b[32m━━━━━━━━━━━━━━━━━━━━\u001b[0m\u001b[37m\u001b[0m \u001b[1m2s\u001b[0m 5ms/step - accuracy: 0.9666 - loss: 0.1656 - val_accuracy: 0.9695 - val_loss: 0.1425\n",
            "Epoch 21/50\n",
            "\u001b[1m250/250\u001b[0m \u001b[32m━━━━━━━━━━━━━━━━━━━━\u001b[0m\u001b[37m\u001b[0m \u001b[1m1s\u001b[0m 4ms/step - accuracy: 0.9655 - loss: 0.1787 - val_accuracy: 0.9695 - val_loss: 0.1663\n",
            "Epoch 22/50\n",
            "\u001b[1m250/250\u001b[0m \u001b[32m━━━━━━━━━━━━━━━━━━━━\u001b[0m\u001b[37m\u001b[0m \u001b[1m1s\u001b[0m 3ms/step - accuracy: 0.9637 - loss: 0.1876 - val_accuracy: 0.9695 - val_loss: 0.1374\n",
            "Epoch 23/50\n",
            "\u001b[1m250/250\u001b[0m \u001b[32m━━━━━━━━━━━━━━━━━━━━\u001b[0m\u001b[37m\u001b[0m \u001b[1m1s\u001b[0m 3ms/step - accuracy: 0.9615 - loss: 0.1922 - val_accuracy: 0.9695 - val_loss: 0.1440\n",
            "Epoch 24/50\n",
            "\u001b[1m250/250\u001b[0m \u001b[32m━━━━━━━━━━━━━━━━━━━━\u001b[0m\u001b[37m\u001b[0m \u001b[1m1s\u001b[0m 4ms/step - accuracy: 0.9650 - loss: 0.1633 - val_accuracy: 0.9695 - val_loss: 0.1428\n",
            "Epoch 25/50\n",
            "\u001b[1m250/250\u001b[0m \u001b[32m━━━━━━━━━━━━━━━━━━━━\u001b[0m\u001b[37m\u001b[0m \u001b[1m1s\u001b[0m 3ms/step - accuracy: 0.9637 - loss: 0.1702 - val_accuracy: 0.9695 - val_loss: 0.2036\n",
            "Epoch 26/50\n",
            "\u001b[1m250/250\u001b[0m \u001b[32m━━━━━━━━━━━━━━━━━━━━\u001b[0m\u001b[37m\u001b[0m \u001b[1m1s\u001b[0m 3ms/step - accuracy: 0.9661 - loss: 0.1754 - val_accuracy: 0.9695 - val_loss: 0.1427\n",
            "Epoch 27/50\n",
            "\u001b[1m250/250\u001b[0m \u001b[32m━━━━━━━━━━━━━━━━━━━━\u001b[0m\u001b[37m\u001b[0m \u001b[1m1s\u001b[0m 3ms/step - accuracy: 0.9678 - loss: 0.1519 - val_accuracy: 0.9695 - val_loss: 0.1511\n",
            "Epoch 28/50\n",
            "\u001b[1m250/250\u001b[0m \u001b[32m━━━━━━━━━━━━━━━━━━━━\u001b[0m\u001b[37m\u001b[0m \u001b[1m1s\u001b[0m 3ms/step - accuracy: 0.9659 - loss: 0.1607 - val_accuracy: 0.9695 - val_loss: 0.1463\n",
            "Epoch 29/50\n",
            "\u001b[1m250/250\u001b[0m \u001b[32m━━━━━━━━━━━━━━━━━━━━\u001b[0m\u001b[37m\u001b[0m \u001b[1m1s\u001b[0m 3ms/step - accuracy: 0.9688 - loss: 0.1593 - val_accuracy: 0.9695 - val_loss: 0.1382\n",
            "Epoch 30/50\n",
            "\u001b[1m250/250\u001b[0m \u001b[32m━━━━━━━━━━━━━━━━━━━━\u001b[0m\u001b[37m\u001b[0m \u001b[1m2s\u001b[0m 5ms/step - accuracy: 0.9656 - loss: 0.1670 - val_accuracy: 0.9695 - val_loss: 0.1340\n",
            "Epoch 31/50\n",
            "\u001b[1m250/250\u001b[0m \u001b[32m━━━━━━━━━━━━━━━━━━━━\u001b[0m\u001b[37m\u001b[0m \u001b[1m1s\u001b[0m 5ms/step - accuracy: 0.9619 - loss: 0.1667 - val_accuracy: 0.9695 - val_loss: 0.1361\n",
            "Epoch 32/50\n",
            "\u001b[1m250/250\u001b[0m \u001b[32m━━━━━━━━━━━━━━━━━━━━\u001b[0m\u001b[37m\u001b[0m \u001b[1m2s\u001b[0m 3ms/step - accuracy: 0.9650 - loss: 0.1686 - val_accuracy: 0.9695 - val_loss: 0.1339\n",
            "Epoch 33/50\n",
            "\u001b[1m250/250\u001b[0m \u001b[32m━━━━━━━━━━━━━━━━━━━━\u001b[0m\u001b[37m\u001b[0m \u001b[1m2s\u001b[0m 4ms/step - accuracy: 0.9616 - loss: 0.1907 - val_accuracy: 0.9695 - val_loss: 0.1382\n",
            "Epoch 34/50\n",
            "\u001b[1m250/250\u001b[0m \u001b[32m━━━━━━━━━━━━━━━━━━━━\u001b[0m\u001b[37m\u001b[0m \u001b[1m1s\u001b[0m 3ms/step - accuracy: 0.9621 - loss: 0.1728 - val_accuracy: 0.9695 - val_loss: 0.1352\n",
            "Epoch 35/50\n",
            "\u001b[1m250/250\u001b[0m \u001b[32m━━━━━━━━━━━━━━━━━━━━\u001b[0m\u001b[37m\u001b[0m \u001b[1m1s\u001b[0m 3ms/step - accuracy: 0.9667 - loss: 0.1638 - val_accuracy: 0.9695 - val_loss: 0.1344\n",
            "Epoch 36/50\n",
            "\u001b[1m250/250\u001b[0m \u001b[32m━━━━━━━━━━━━━━━━━━━━\u001b[0m\u001b[37m\u001b[0m \u001b[1m1s\u001b[0m 3ms/step - accuracy: 0.9638 - loss: 0.1591 - val_accuracy: 0.9695 - val_loss: 0.1403\n",
            "Epoch 37/50\n",
            "\u001b[1m250/250\u001b[0m \u001b[32m━━━━━━━━━━━━━━━━━━━━\u001b[0m\u001b[37m\u001b[0m \u001b[1m1s\u001b[0m 3ms/step - accuracy: 0.9659 - loss: 0.1601 - val_accuracy: 0.9695 - val_loss: 0.1370\n",
            "Epoch 38/50\n",
            "\u001b[1m250/250\u001b[0m \u001b[32m━━━━━━━━━━━━━━━━━━━━\u001b[0m\u001b[37m\u001b[0m \u001b[1m1s\u001b[0m 3ms/step - accuracy: 0.9632 - loss: 0.1621 - val_accuracy: 0.9695 - val_loss: 0.1337\n",
            "Epoch 39/50\n",
            "\u001b[1m250/250\u001b[0m \u001b[32m━━━━━━━━━━━━━━━━━━━━\u001b[0m\u001b[37m\u001b[0m \u001b[1m1s\u001b[0m 3ms/step - accuracy: 0.9688 - loss: 0.1439 - val_accuracy: 0.9695 - val_loss: 0.1358\n",
            "Epoch 40/50\n",
            "\u001b[1m250/250\u001b[0m \u001b[32m━━━━━━━━━━━━━━━━━━━━\u001b[0m\u001b[37m\u001b[0m \u001b[1m1s\u001b[0m 5ms/step - accuracy: 0.9652 - loss: 0.1501 - val_accuracy: 0.9695 - val_loss: 0.1329\n",
            "Epoch 41/50\n",
            "\u001b[1m250/250\u001b[0m \u001b[32m━━━━━━━━━━━━━━━━━━━━\u001b[0m\u001b[37m\u001b[0m \u001b[1m2s\u001b[0m 4ms/step - accuracy: 0.9683 - loss: 0.1373 - val_accuracy: 0.9695 - val_loss: 0.1357\n",
            "Epoch 42/50\n",
            "\u001b[1m250/250\u001b[0m \u001b[32m━━━━━━━━━━━━━━━━━━━━\u001b[0m\u001b[37m\u001b[0m \u001b[1m1s\u001b[0m 3ms/step - accuracy: 0.9643 - loss: 0.1564 - val_accuracy: 0.9695 - val_loss: 0.1325\n",
            "Epoch 43/50\n",
            "\u001b[1m250/250\u001b[0m \u001b[32m━━━━━━━━━━━━━━━━━━━━\u001b[0m\u001b[37m\u001b[0m \u001b[1m1s\u001b[0m 3ms/step - accuracy: 0.9621 - loss: 0.1636 - val_accuracy: 0.9695 - val_loss: 0.1329\n",
            "Epoch 44/50\n",
            "\u001b[1m250/250\u001b[0m \u001b[32m━━━━━━━━━━━━━━━━━━━━\u001b[0m\u001b[37m\u001b[0m \u001b[1m1s\u001b[0m 3ms/step - accuracy: 0.9652 - loss: 0.1492 - val_accuracy: 0.9695 - val_loss: 0.1434\n",
            "Epoch 45/50\n",
            "\u001b[1m250/250\u001b[0m \u001b[32m━━━━━━━━━━━━━━━━━━━━\u001b[0m\u001b[37m\u001b[0m \u001b[1m1s\u001b[0m 3ms/step - accuracy: 0.9678 - loss: 0.1433 - val_accuracy: 0.9695 - val_loss: 0.1318\n",
            "Epoch 46/50\n",
            "\u001b[1m250/250\u001b[0m \u001b[32m━━━━━━━━━━━━━━━━━━━━\u001b[0m\u001b[37m\u001b[0m \u001b[1m1s\u001b[0m 5ms/step - accuracy: 0.9647 - loss: 0.1543 - val_accuracy: 0.9695 - val_loss: 0.1335\n",
            "Epoch 47/50\n",
            "\u001b[1m250/250\u001b[0m \u001b[32m━━━━━━━━━━━━━━━━━━━━\u001b[0m\u001b[37m\u001b[0m \u001b[1m2s\u001b[0m 3ms/step - accuracy: 0.9681 - loss: 0.1398 - val_accuracy: 0.9695 - val_loss: 0.1378\n",
            "Epoch 48/50\n",
            "\u001b[1m250/250\u001b[0m \u001b[32m━━━━━━━━━━━━━━━━━━━━\u001b[0m\u001b[37m\u001b[0m \u001b[1m1s\u001b[0m 3ms/step - accuracy: 0.9662 - loss: 0.1533 - val_accuracy: 0.9695 - val_loss: 0.1436\n",
            "Epoch 49/50\n",
            "\u001b[1m250/250\u001b[0m \u001b[32m━━━━━━━━━━━━━━━━━━━━\u001b[0m\u001b[37m\u001b[0m \u001b[1m3s\u001b[0m 8ms/step - accuracy: 0.9662 - loss: 0.1497 - val_accuracy: 0.9695 - val_loss: 0.1344\n",
            "Epoch 50/50\n",
            "\u001b[1m250/250\u001b[0m \u001b[32m━━━━━━━━━━━━━━━━━━━━\u001b[0m\u001b[37m\u001b[0m \u001b[1m1s\u001b[0m 3ms/step - accuracy: 0.9657 - loss: 0.1485 - val_accuracy: 0.9695 - val_loss: 0.1325\n",
            "\u001b[1m63/63\u001b[0m \u001b[32m━━━━━━━━━━━━━━━━━━━━\u001b[0m\u001b[37m\u001b[0m \u001b[1m0s\u001b[0m 2ms/step\n",
            "Test Accuracy: 0.9695\n",
            "\n",
            "Classification Report:\n",
            "               precision    recall  f1-score   support\n",
            "\n",
            "           0       0.97      1.00      0.98      1939\n",
            "           1       0.00      0.00      0.00        61\n",
            "\n",
            "    accuracy                           0.97      2000\n",
            "   macro avg       0.48      0.50      0.49      2000\n",
            "weighted avg       0.94      0.97      0.95      2000\n",
            "\n"
          ]
        },
        {
          "output_type": "stream",
          "name": "stderr",
          "text": [
            "/usr/local/lib/python3.11/dist-packages/sklearn/metrics/_classification.py:1565: UndefinedMetricWarning: Precision is ill-defined and being set to 0.0 in labels with no predicted samples. Use `zero_division` parameter to control this behavior.\n",
            "  _warn_prf(average, modifier, f\"{metric.capitalize()} is\", len(result))\n",
            "/usr/local/lib/python3.11/dist-packages/sklearn/metrics/_classification.py:1565: UndefinedMetricWarning: Precision is ill-defined and being set to 0.0 in labels with no predicted samples. Use `zero_division` parameter to control this behavior.\n",
            "  _warn_prf(average, modifier, f\"{metric.capitalize()} is\", len(result))\n",
            "/usr/local/lib/python3.11/dist-packages/sklearn/metrics/_classification.py:1565: UndefinedMetricWarning: Precision is ill-defined and being set to 0.0 in labels with no predicted samples. Use `zero_division` parameter to control this behavior.\n",
            "  _warn_prf(average, modifier, f\"{metric.capitalize()} is\", len(result))\n"
          ]
        },
        {
          "output_type": "display_data",
          "data": {
            "text/plain": [
              "<Figure size 800x500 with 1 Axes>"
            ],
            "image/png": "[encoded data removed]"
          },
          "metadata": {}
        }
      ],
      "source": [
        "# Train the model\n",
        "history = model.fit(X_train, Y_train, epochs=50, batch_size=32, validation_data=(X_test, Y_test))\n",
        "\n",
        "# Evaluate model on test data\n",
        "Y_pred = (model.predict(X_test) > 0.5).astype(\"int32\")\n",
        "\n",
        "# Print accuracy and classification report\n",
        "accuracy = accuracy_score(Y_test, Y_pred)\n",
        "print(f\"Test Accuracy: {accuracy:.4f}\")\n",
        "print(\"\\nClassification Report:\\n\", classification_report(Y_test, Y_pred))\n",
        "\n",
        "plt.figure(figsize=(8, 5))\n",
        "plt.plot(history.history['accuracy'], label='Train Accuracy')\n",
        "plt.plot(history.history['val_accuracy'], label='Validation Accuracy')\n",
        "plt.xlabel('Epochs')\n",
        "plt.ylabel('Accuracy')\n",
        "plt.legend()\n",
        "plt.title('Model Accuracy Over Epochs')\n",
        "plt.show()"
      ]
    },
    {
      "cell_type": "markdown",
      "metadata": {
        "id": "yvmyHnqYpbf-"
      },
      "source": [
        "**QUESTION** Plot the confusion matrix and the classification report"
      ]
    },
    {
      "cell_type": "markdown",
      "metadata": {
        "id": "FUXSeJ1ZpsSP"
      },
      "source": [
        "**Tips:**\n",
        "\n",
        "*   classification report link\n",
        "\n",
        "> https://scikit-learn.org/stable/modules/generated/sklearn.metrics.classification_report.html\n",
        "\n",
        "*   Matrix confusion\n",
        "\n",
        "> https://scikit-learn.org/stable/modules/generated/sklearn.metrics.ConfusionMatrixDisplay.html\n",
        "\n",
        "\n",
        "\n"
      ]
    },
    {
      "cell_type": "code",
      "execution_count": null,
      "metadata": {
        "id": "m4q5wvHNnAdu",
        "outputId": "6b85b78b-0ab2-40f5-ce6f-b64f9879e02e",
        "colab": {
          "base_uri": "https://localhost:8080/",
          "height": 813
        }
      },
      "outputs": [
        {
          "output_type": "display_data",
          "data": {
            "text/plain": [
              "<Figure size 600x500 with 2 Axes>"
            ],
            "image/png": "[encoded data removed]"
          },
          "metadata": {}
        },
        {
          "output_type": "stream",
          "name": "stdout",
          "text": [
            "Test Accuracy: 0.9695\n",
            "\n",
            "Classification Report:\n",
            "               precision    recall  f1-score   support\n",
            "\n",
            "           0       0.97      1.00      0.98      1939\n",
            "           1       0.00      0.00      0.00        61\n",
            "\n",
            "    accuracy                           0.97      2000\n",
            "   macro avg       0.48      0.50      0.49      2000\n",
            "weighted avg       0.94      0.97      0.95      2000\n",
            "\n"
          ]
        },
        {
          "output_type": "stream",
          "name": "stderr",
          "text": [
            "/usr/local/lib/python3.11/dist-packages/sklearn/metrics/_classification.py:1565: UndefinedMetricWarning: Precision is ill-defined and being set to 0.0 in labels with no predicted samples. Use `zero_division` parameter to control this behavior.\n",
            "  _warn_prf(average, modifier, f\"{metric.capitalize()} is\", len(result))\n",
            "/usr/local/lib/python3.11/dist-packages/sklearn/metrics/_classification.py:1565: UndefinedMetricWarning: Precision is ill-defined and being set to 0.0 in labels with no predicted samples. Use `zero_division` parameter to control this behavior.\n",
            "  _warn_prf(average, modifier, f\"{metric.capitalize()} is\", len(result))\n",
            "/usr/local/lib/python3.11/dist-packages/sklearn/metrics/_classification.py:1565: UndefinedMetricWarning: Precision is ill-defined and being set to 0.0 in labels with no predicted samples. Use `zero_division` parameter to control this behavior.\n",
            "  _warn_prf(average, modifier, f\"{metric.capitalize()} is\", len(result))\n"
          ]
        }
      ],
      "source": [
        "# Compute Confusion Matrix\n",
        "cm = confusion_matrix(Y_test, Y_pred)\n",
        "\n",
        "# Plot Confusion Matrix\n",
        "plt.figure(figsize=(6, 5))\n",
        "sns.heatmap(cm, annot=True, fmt=\"d\", cmap=\"Blues\", xticklabels=['No Failure', 'Failure'], yticklabels=['No Failure', 'Failure'])\n",
        "plt.xlabel(\"Predicted Label\")\n",
        "plt.ylabel(\"True Label\")\n",
        "plt.title(\"Confusion Matrix\")\n",
        "plt.show()\n",
        "\n",
        "# Print Classification Report\n",
        "accuracy = accuracy_score(Y_test, Y_pred)\n",
        "print(f\"Test Accuracy: {accuracy:.4f}\\n\")\n",
        "print(\"Classification Report:\\n\", classification_report(Y_test, Y_pred))"
      ]
    },
    {
      "cell_type": "markdown",
      "metadata": {
        "id": "ImGsmryGkKhj"
      },
      "source": [
        "**ANALYSIS QUESTION** What do you observe? What can you conclude?"
      ]
    },
    {
      "cell_type": "markdown",
      "metadata": {
        "id": "y1f5OneQknZy"
      },
      "source": [
        "\"Write your response here\""
      ]
    },
    {
      "cell_type": "markdown",
      "metadata": {
        "id": "EYUyUAN5ji0x"
      },
      "source": [
        "## **3- Train model With balancing the dataset**\n",
        "\n",
        "---"
      ]
    },
    {
      "cell_type": "markdown",
      "metadata": {
        "id": "EQWut50JhKdD"
      },
      "source": [
        " Methods for rebalancing a dataset:\n",
        "\n",
        "\n",
        "*   Use oversampling techniques (e.g., SMOTE) to generate synthetic data for minority classes\n",
        "\n",
        "\n",
        "> https://imbalanced-learn.org/stable/references/generated/imblearn.over_sampling.SMOTE.html\n",
        "\n",
        "\n",
        "\n",
        "*   Apply undersampling techniques (e.g., random undersampling, Tomek Links, Edited Nearest Neighbors) to reduce the majority class size\n",
        "\n",
        "\n",
        "\n",
        "> https://imbalanced-learn.org/stable/references/generated/imblearn.under_sampling.RandomUnderSampler.html\n",
        "\n",
        "\n",
        "\n",
        "*   Use class weighting during model training to penalize errors on minority classes\n",
        "\n",
        "\n",
        "\n",
        "> https://www.tensorflow.org/tutorials/structured_data/imbalanced_data?hl=fr\n"
      ]
    },
    {
      "cell_type": "markdown",
      "metadata": {
        "id": "--pWJzaUnXdY"
      },
      "source": [
        "**QUESTION:** Create X_train, Y_train, X_test, and Y_test. How many elements are present in X_train, Y_train, X_test, and Y_test? (Print the values)"
      ]
    },
    {
      "cell_type": "code",
      "execution_count": 43,
      "metadata": {
        "id": "aLW74cwbdr1U",
        "colab": {
          "base_uri": "https://localhost:8080/"
        },
        "outputId": "22993eed-7d0d-444d-9d18-90d97b35eb57"
      },
      "outputs": [
        {
          "output_type": "stream",
          "name": "stdout",
          "text": [
            "X_train: 8694 rows, 10007 columns\n",
            "Y_train: 8694 elements\n",
            "X_test: 2000 rows, 10007 columns\n",
            "Y_test: 2000 elements\n",
            "\n",
            "Class distribution after rebalancing in Y_train:\n",
            "Machine failure\n",
            "0    4830\n",
            "1    3864\n",
            "Name: count, dtype: int64\n"
          ]
        }
      ],
      "source": [
        "ile_path = \"ai4i2020.csv\"  # Ensure the file is in the correct path\n",
        "df = pd.read_csv(file_path)\n",
        "\n",
        "# Define X (features) - Remove 'Machine failure' and failure type columns\n",
        "X = df.drop(columns=['Machine failure', 'TWF', 'HDF', 'PWF', 'OSF', 'RNF'])\n",
        "\n",
        "# Define Y (target)\n",
        "Y = df['Machine failure']\n",
        "\n",
        "# Identify categorical columns\n",
        "categorical_cols = X.select_dtypes(include=['object']).columns.tolist()\n",
        "\n",
        "# Apply One-Hot Encoding to categorical variables\n",
        "X = pd.get_dummies(X, columns=categorical_cols, drop_first=True)  # Convert categorical to numeric\n",
        "\n",
        "# Split dataset into training (80%) and testing (20%)\n",
        "X_train, X_test, Y_train, Y_test = train_test_split(X, Y, test_size=0.2, random_state=42, stratify=Y)\n",
        "\n",
        "# Standardize only numerical data\n",
        "scaler = StandardScaler()\n",
        "X_train = scaler.fit_transform(X_train)\n",
        "X_test = scaler.transform(X_test)\n",
        "\n",
        "# Apply Oversampling (SMOTE) to generate synthetic samples for the minority class\n",
        "smote = SMOTE(sampling_strategy=0.5, random_state=42)  # Make the minority class 50% of the majority class\n",
        "X_train, Y_train = smote.fit_resample(X_train, Y_train)\n",
        "\n",
        "# Apply Undersampling to reduce the majority class size\n",
        "undersample = RandomUnderSampler(sampling_strategy=0.8, random_state=42)  # Keep majority class 80% of its size\n",
        "X_train, Y_train = undersample.fit_resample(X_train, Y_train)\n",
        "\n",
        "# Print the number of elements in each dataset\n",
        "print(f'X_train: {X_train.shape[0]} rows, {X_train.shape[1]} columns')\n",
        "print(f'Y_train: {Y_train.shape[0]} elements')\n",
        "print(f'X_test: {X_test.shape[0]} rows, {X_test.shape[1]} columns')\n",
        "print(f'Y_test: {Y_test.shape[0]} elements')\n",
        "\n",
        "# Print class distribution after rebalancing\n",
        "print(\"\\nClass distribution after rebalancing in Y_train:\")\n",
        "print(Y_train.value_counts())"
      ]
    },
    {
      "cell_type": "markdown",
      "metadata": {
        "id": "-YcZXIadnbcm"
      },
      "source": [
        "**ANALYSIS QUESTION:** Explain the choices you made to balance the dataset."
      ]
    },
    {
      "cell_type": "markdown",
      "metadata": {
        "id": "Rku3pnWxnxhI"
      },
      "source": [
        "\"Write your response here\""
      ]
    },
    {
      "cell_type": "markdown",
      "metadata": {
        "id": "BVryPCQFn4Dd"
      },
      "source": [
        "**QUESTION:** Code below the model architecture\n"
      ]
    },
    {
      "cell_type": "markdown",
      "metadata": {
        "id": "Q5BGfI7TpVDD"
      },
      "source": [
        "**TIP:** It could be interesting to keep it the same as before"
      ]
    },
    {
      "cell_type": "code",
      "execution_count": null,
      "metadata": {
        "id": "S0UbMHN6OC51"
      },
      "outputs": [],
      "source": []
    },
    {
      "cell_type": "markdown",
      "metadata": {
        "id": "wBZyS7DdofFq"
      },
      "source": [
        "**QUESTION** Code below the algorithms allowing to train model\n"
      ]
    },
    {
      "cell_type": "code",
      "execution_count": null,
      "metadata": {
        "id": "my6Ck5JbMDOG"
      },
      "outputs": [],
      "source": []
    },
    {
      "cell_type": "markdown",
      "metadata": {
        "id": "77ftkfv5oqp0"
      },
      "source": [
        "**QUESTION** Plot the confusion matrix and the classification report"
      ]
    },
    {
      "cell_type": "code",
      "execution_count": null,
      "metadata": {
        "id": "kRmkOI_co5d9"
      },
      "outputs": [],
      "source": []
    },
    {
      "cell_type": "markdown",
      "metadata": {
        "id": "Zn5BBAI3pHXf"
      },
      "source": [
        "**ANALYSIS QUESTION** What do you observe? What can you conclude?"
      ]
    },
    {
      "cell_type": "markdown",
      "metadata": {
        "id": "SIf8rfU9pIGd"
      },
      "source": [
        "\"Write your response here\""
      ]
    }
  ],
  "metadata": {
    "colab": {
      "provenance": []
    },
    "kernelspec": {
      "display_name": "Python 3 (ipykernel)",
      "language": "python",
      "name": "python3"
    },
    "language_info": {
      "codemirror_mode": {
        "name": "ipython",
        "version": 3
      },
      "file_extension": ".py",
      "mimetype": "text/x-python",
      "name": "python",
      "nbconvert_exporter": "python",
      "pygments_lexer": "ipython3",
      "version": "3.12.4"
    }
  },
  "nbformat": 4,
  "nbformat_minor": 0
}